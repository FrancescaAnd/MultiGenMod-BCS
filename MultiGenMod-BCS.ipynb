{
 "cells": [
  {
   "cell_type": "markdown",
   "id": "890f58f1",
   "metadata": {},
   "source": [
    "# Multimodal Generative Models for Breast Cancer Screening\n",
    "**Author:** Francesca Andreotti — Student ID: 1696976"
   ]
  },
  {
   "cell_type": "markdown",
   "id": "cd34d3c8",
   "metadata": {},
   "source": [
    "## 1. Project Aim\n",
    "**Objective:**  \n",
    "This project aims to develop a generative model integrating multi-view mammography and radiomic features for improved breast cancer classification, data augmentation, and counterfactual explanation."
   ]
  },
  {
   "cell_type": "markdown",
   "id": "2098d327",
   "metadata": {},
   "source": [
    "## 2. Selected Paper(s) and Description\n",
    "1. **Paper Title** — *Brief description of contribution and relevance.*\n",
    "2. **Paper Title** — *Brief description.*\n"
   ]
  },
  {
   "cell_type": "markdown",
   "id": "9223496f",
   "metadata": {},
   "source": [
    "## 3. Theoretical Background and Key Concepts\n",
    "- **Multi-view learning**\n",
    "- **Multimodal data integration**\n",
    "- **GANs & Diffusion Models**\n",
    "- **Radiomics**\n",
    "\n",
    "\n",
    "Mathematical example:\n",
    "$$\n",
    "\\mathcal{L}_{total} = \\mathcal{L}_{adv} + \\lambda \\mathcal{L}_{recon} + \\beta \\mathcal{L}_{cond}\n",
    "$$"
   ]
  },
  {
   "cell_type": "markdown",
   "id": "eb12ecea",
   "metadata": {},
   "source": [
    "## 4. Implementation Details"
   ]
  },
  {
   "cell_type": "markdown",
   "id": "142346ea",
   "metadata": {},
   "source": [
    "### 4.1 Dataset\n",
    "- **CBIS-DDSM** and **INbreast** datasets.\n",
    "- Preprocessing: resizing, normalization, radiomic feature extraction."
   ]
  },
  {
   "cell_type": "code",
   "execution_count": null,
   "id": "2d4bf833",
   "metadata": {},
   "outputs": [],
   "source": [
    "# Example: dataset loading\n",
    "import torch\n",
    "from torch.utils.data import DataLoader\n",
    "\n",
    "train_loader = DataLoader(train_dataset, batch_size=8, shuffle=True)\n",
    "val_loader = DataLoader(val_dataset, batch_size=8, shuffle=False)"
   ]
  },
  {
   "cell_type": "markdown",
   "id": "7bf62fc9",
   "metadata": {},
   "source": [
    "### 4.2 Model Architecture\n",
    "Describe your chosen architecture:\n",
    "- Base: StyleGAN2 / DDPM / custom GAN\n",
    "- Conditioning: Radiomic features concatenated to latent vector"
   ]
  },
  {
   "cell_type": "code",
   "execution_count": null,
   "id": "4f0909a7",
   "metadata": {},
   "outputs": [],
   "source": [
    "# Model definition placeholder\n",
    "import torch.nn as nn\n",
    "\n",
    "class Generator(nn.Module):\n",
    "    def __init__(self):\n",
    "        super().__init__()\n",
    "        # define layers here\n",
    "\n",
    "    def forward(self, x):\n",
    "        return x\n"
   ]
  },
  {
   "cell_type": "markdown",
   "id": "b53c8621",
   "metadata": {},
   "source": [
    "### 4.3 Experimental Setup\n",
    "- Optimizer: Adam, learning rate 0.0002\n",
    "- Loss functions: adversarial loss, reconstruction loss\n",
    "- Hardware: NVIDIA RTX 3090, 24 GB VRAM"
   ]
  },
  {
   "cell_type": "markdown",
   "id": "fff9b87e",
   "metadata": {},
   "source": [
    "## 5. Results and Analysis\n",
    "### 5.1 Quantitative Metrics\n"
   ]
  },
  {
   "cell_type": "code",
   "execution_count": null,
   "id": "9c77f717",
   "metadata": {},
   "outputs": [],
   "source": [
    "# Example: plotting results (FID, PSNR, SSIM)\n",
    "import matplotlib.pyplot as plt\n",
    "\n",
    "plt.plot(range(epochs), fid_scores)\n",
    "plt.xlabel(\"Epoch\")\n",
    "plt.ylabel(\"FID\")\n",
    "plt.title(\"FID over Training\")\n",
    "plt.show()\n"
   ]
  },
  {
   "cell_type": "markdown",
   "id": "79ef20dc",
   "metadata": {},
   "source": [
    "### 5.2 Qualitative metrics\n",
    "Insert generated image samples here."
   ]
  },
  {
   "cell_type": "code",
   "execution_count": null,
   "id": "59d1c43b",
   "metadata": {},
   "outputs": [],
   "source": [
    "# Display generated images\n",
    "import torchvision.utils as vutils\n",
    "vutils.make_grid(fake_images, normalize=True)\n"
   ]
  },
  {
   "cell_type": "markdown",
   "id": "31468226",
   "metadata": {},
   "source": [
    "### 5.3 Interpretation\n",
    "\n",
    "Discuss patterns, successes, and anomalies."
   ]
  },
  {
   "cell_type": "markdown",
   "id": "e3c2e706",
   "metadata": {},
   "source": [
    "## 6. Limitations and Reflections\n",
    "-  Data imbalance between benign and malignant cases.\n",
    "- Limited number of multi-view aligned samples.\n",
    "- Computational cost of high-resolution synthesis."
   ]
  },
  {
   "cell_type": "markdown",
   "id": "d7b7f144",
   "metadata": {},
   "source": [
    "## 7. References\n",
    "\n",
    "[1] Author et al., \"Title\", Journal/Conference, Year.\n",
    "[2] GitHub Repository: URL\n",
    "[3] Dataset: CBIS-DDSM, INbreast"
   ]
  },
  {
   "cell_type": "markdown",
   "id": "98649948",
   "metadata": {},
   "source": [
    "## 8. Reproducibility Instructions\n",
    "### 8.1 Dependencies\n",
    "\n",
    "pip install torch torchvision matplotlib pandas scikit-learn pydicom\n",
    "\n",
    "\n",
    "### 8.2 Running Locally\n",
    "1.  Clone repository\n",
    "2.  Download datasets (links)\n",
    "3.  Run: \n",
    "jupyter notebook\n",
    "4. Open project.ipynb and run cells in order."
   ]
  }
 ],
 "metadata": {
  "language_info": {
   "name": "python"
  }
 },
 "nbformat": 4,
 "nbformat_minor": 5
}
